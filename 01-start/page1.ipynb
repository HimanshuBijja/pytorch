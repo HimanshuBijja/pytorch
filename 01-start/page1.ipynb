{
  "nbformat": 4,
  "nbformat_minor": 0,
  "metadata": {
    "colab": {
      "provenance": [],
      "gpuType": "T4",
      "authorship_tag": "ABX9TyP1Tzp1FlNDKl+7zrK+d4t5",
      "include_colab_link": true
    },
    "kernelspec": {
      "name": "python3",
      "display_name": "Python 3"
    },
    "language_info": {
      "name": "python"
    },
    "accelerator": "GPU"
  },
  "cells": [
    {
      "cell_type": "markdown",
      "metadata": {
        "id": "view-in-github",
        "colab_type": "text"
      },
      "source": [
        "<a href=\"https://colab.research.google.com/github/HimanshuBijja/pytorch/blob/main/01-start/page1.ipynb\" target=\"_parent\"><img src=\"https://colab.research.google.com/assets/colab-badge.svg\" alt=\"Open In Colab\"/></a>"
      ]
    },
    {
      "cell_type": "code",
      "execution_count": 5,
      "metadata": {
        "id": "l2GjFq89QP-o",
        "colab": {
          "base_uri": "https://localhost:8080/"
        },
        "outputId": "2e9c2a6a-5ff0-4223-f40f-60ec40d847c3"
      },
      "outputs": [
        {
          "output_type": "stream",
          "name": "stdout",
          "text": [
            "2.6.0+cu124\n"
          ]
        }
      ],
      "source": [
        "import torch\n",
        "import pandas as pd\n",
        "import numpy as np\n",
        "import matplotlib.pyplot as plt\n",
        "print(torch.__version__)"
      ]
    },
    {
      "cell_type": "markdown",
      "source": [],
      "metadata": {
        "id": "8trhTs2NVO1q"
      }
    },
    {
      "cell_type": "markdown",
      "source": [
        "`Tensar` is a way of representing multilinear type of numeric data"
      ],
      "metadata": {
        "id": "EBbCJPDNVPmn"
      }
    },
    {
      "cell_type": "code",
      "source": [],
      "metadata": {
        "id": "VlIRCfB0VY6i"
      },
      "execution_count": null,
      "outputs": []
    }
  ]
}