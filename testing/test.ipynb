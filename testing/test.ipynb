{
  "cells": [
    {
      "cell_type": "code",
      "execution_count": 2,
      "id": "b6f306db",
      "metadata": {
        "id": "b6f306db",
        "outputId": "ff8dc767-a3df-40a0-a850-98f19f9d84b4"
      },
      "outputs": [
        {
          "name": "stdout",
          "output_type": "stream",
          "text": [
            "hello world\n"
          ]
        }
      ],
      "source": [
        "print(\"hello world\")"
      ]
    },
    {
      "cell_type": "code",
      "execution_count": 3,
      "id": "5IoOtNpicKtp",
      "metadata": {
        "id": "5IoOtNpicKtp"
      },
      "outputs": [
        {
          "name": "stdout",
          "output_type": "stream",
          "text": [
            "testing67\n"
          ]
        }
      ],
      "source": [
        "print(\"testing67\")\n",
        "\n"
      ]
    }
  ],
  "metadata": {
    "colab": {
      "provenance": []
    },
    "kernelspec": {
      "display_name": "Python 3",
      "language": "python",
      "name": "python3"
    },
    "language_info": {
      "codemirror_mode": {
        "name": "ipython",
        "version": 3
      },
      "file_extension": ".py",
      "mimetype": "text/x-python",
      "name": "python",
      "nbconvert_exporter": "python",
      "pygments_lexer": "ipython3",
      "version": "3.13.1"
    }
  },
  "nbformat": 4,
  "nbformat_minor": 5
}
